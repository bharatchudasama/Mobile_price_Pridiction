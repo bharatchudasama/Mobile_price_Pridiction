{
  "nbformat": 4,
  "nbformat_minor": 0,
  "metadata": {
    "colab": {
      "provenance": [],
      "authorship_tag": "ABX9TyNwH7Gz/IVtrDYhTSAoca6L",
      "include_colab_link": true
    },
    "kernelspec": {
      "name": "python3",
      "display_name": "Python 3"
    },
    "language_info": {
      "name": "python"
    }
  },
  "cells": [
    {
      "cell_type": "markdown",
      "metadata": {
        "id": "view-in-github",
        "colab_type": "text"
      },
      "source": [
        "<a href=\"https://colab.research.google.com/github/bharatchudasama/Mobile_price_Pridiction/blob/main/DATA_CLEANING.ipynb\" target=\"_parent\"><img src=\"https://colab.research.google.com/assets/colab-badge.svg\" alt=\"Open In Colab\"/></a>"
      ]
    },
    {
      "cell_type": "code",
      "execution_count": 8,
      "metadata": {
        "colab": {
          "base_uri": "https://localhost:8080/",
          "height": 617
        },
        "id": "4vMoUuPFG0sB",
        "outputId": "60829407-7e00-4966-d1ff-fab71fcf863d"
      },
      "outputs": [
        {
          "output_type": "execute_result",
          "data": {
            "text/plain": [
              "brand                  0\n",
              "model                  0\n",
              "sd_card                0\n",
              "main_camera          222\n",
              "resolution           527\n",
              "display              556\n",
              "sim_card             781\n",
              "os                   209\n",
              "color                  0\n",
              "region                 0\n",
              "location               0\n",
              "screen_size(inch)    123\n",
              "battery(mAh)         161\n",
              "storage(GB)            2\n",
              "ram(GB)              777\n",
              "selfie_camera(MP)    291\n",
              "price(¢)               0\n",
              "dtype: int64"
            ],
            "text/html": [
              "<div>\n",
              "<style scoped>\n",
              "    .dataframe tbody tr th:only-of-type {\n",
              "        vertical-align: middle;\n",
              "    }\n",
              "\n",
              "    .dataframe tbody tr th {\n",
              "        vertical-align: top;\n",
              "    }\n",
              "\n",
              "    .dataframe thead th {\n",
              "        text-align: right;\n",
              "    }\n",
              "</style>\n",
              "<table border=\"1\" class=\"dataframe\">\n",
              "  <thead>\n",
              "    <tr style=\"text-align: right;\">\n",
              "      <th></th>\n",
              "      <th>0</th>\n",
              "    </tr>\n",
              "  </thead>\n",
              "  <tbody>\n",
              "    <tr>\n",
              "      <th>brand</th>\n",
              "      <td>0</td>\n",
              "    </tr>\n",
              "    <tr>\n",
              "      <th>model</th>\n",
              "      <td>0</td>\n",
              "    </tr>\n",
              "    <tr>\n",
              "      <th>sd_card</th>\n",
              "      <td>0</td>\n",
              "    </tr>\n",
              "    <tr>\n",
              "      <th>main_camera</th>\n",
              "      <td>222</td>\n",
              "    </tr>\n",
              "    <tr>\n",
              "      <th>resolution</th>\n",
              "      <td>527</td>\n",
              "    </tr>\n",
              "    <tr>\n",
              "      <th>display</th>\n",
              "      <td>556</td>\n",
              "    </tr>\n",
              "    <tr>\n",
              "      <th>sim_card</th>\n",
              "      <td>781</td>\n",
              "    </tr>\n",
              "    <tr>\n",
              "      <th>os</th>\n",
              "      <td>209</td>\n",
              "    </tr>\n",
              "    <tr>\n",
              "      <th>color</th>\n",
              "      <td>0</td>\n",
              "    </tr>\n",
              "    <tr>\n",
              "      <th>region</th>\n",
              "      <td>0</td>\n",
              "    </tr>\n",
              "    <tr>\n",
              "      <th>location</th>\n",
              "      <td>0</td>\n",
              "    </tr>\n",
              "    <tr>\n",
              "      <th>screen_size(inch)</th>\n",
              "      <td>123</td>\n",
              "    </tr>\n",
              "    <tr>\n",
              "      <th>battery(mAh)</th>\n",
              "      <td>161</td>\n",
              "    </tr>\n",
              "    <tr>\n",
              "      <th>storage(GB)</th>\n",
              "      <td>2</td>\n",
              "    </tr>\n",
              "    <tr>\n",
              "      <th>ram(GB)</th>\n",
              "      <td>777</td>\n",
              "    </tr>\n",
              "    <tr>\n",
              "      <th>selfie_camera(MP)</th>\n",
              "      <td>291</td>\n",
              "    </tr>\n",
              "    <tr>\n",
              "      <th>price(¢)</th>\n",
              "      <td>0</td>\n",
              "    </tr>\n",
              "  </tbody>\n",
              "</table>\n",
              "</div><br><label><b>dtype:</b> int64</label>"
            ]
          },
          "metadata": {},
          "execution_count": 8
        }
      ],
      "source": [
        "import pandas as pd\n",
        "\n",
        "# Load the dataset\n",
        "file_path = '/content/Mobile-Phones.csv'  # Replace with your actual file path\n",
        "mobile_phones_df = pd.read_csv(file_path)\n",
        "\n",
        "# Step 1: Handle missing values by checking the number of missing values per column\n",
        "missing_values = mobile_phones_df.isnull().sum()\n",
        "missing_values\n"
      ]
    },
    {
      "cell_type": "code",
      "source": [
        "\n",
        "# Step 2: Standardize text data (e.g., sd_card column 'yes'/'no')\n",
        "mobile_phones_df['sd_card'] = mobile_phones_df['sd_card'].str.lower()\n"
      ],
      "metadata": {
        "id": "tBzN6NG-JO4D"
      },
      "execution_count": 5,
      "outputs": []
    },
    {
      "cell_type": "code",
      "source": [
        "# Step 3: Convert relevant columns to numeric data types\n",
        "numeric_columns = ['screen_size(inch)', 'battery(mAh)', 'storage(GB)', 'ram(GB)', 'selfie_camera(MP)', 'price(¢)']\n",
        "mobile_phones_df[numeric_columns] = mobile_phones_df[numeric_columns].apply(pd.to_numeric, errors='coerce')\n",
        "\n"
      ],
      "metadata": {
        "id": "k-fWiDUfJscp"
      },
      "execution_count": 6,
      "outputs": []
    },
    {
      "cell_type": "code",
      "source": [
        "# Step 4: Standardize the 'main_camera' column to extract the first camera resolution if it exists\n",
        "mobile_phones_df['main_camera'] = mobile_phones_df['main_camera'].str.extract(r'(\\d{1,3})').astype(float)\n",
        "\n",
        "# Step 5: Count the number of models for each brand\n",
        "brand_model_counts = mobile_phones_df['brand'].value_counts()\n",
        "\n",
        "# Step 6: Identify brands with more than 10 models or data points\n",
        "brands_to_keep = brand_model_counts[brand_model_counts > 10].index\n",
        "\n",
        "# Step 7: Filter the dataset to keep only rows where the brand has more than 10 models\n",
        "cleaned_mobile_phones_df = mobile_phones_df[mobile_phones_df['brand'].isin(brands_to_keep)]\n",
        "\n",
        "# Save the cleaned dataset to a new CSV file\n",
        "cleaned_file_path = '/content/Cleaned_Mobile_Phones.csv'  # Replace with your desired save location\n",
        "cleaned_mobile_phones_df.to_csv(cleaned_file_path, index=False)\n",
        "\n",
        "print(\"Cleaned dataset saved successfully.\")"
      ],
      "metadata": {
        "colab": {
          "base_uri": "https://localhost:8080/"
        },
        "id": "UpMsPJMfJ79z",
        "outputId": "795cb33f-ce3e-4344-b988-82131d3a0c98"
      },
      "execution_count": 7,
      "outputs": [
        {
          "output_type": "stream",
          "name": "stdout",
          "text": [
            "Cleaned dataset saved successfully.\n"
          ]
        }
      ]
    },
    {
      "cell_type": "code",
      "source": [],
      "metadata": {
        "id": "F0LHpOzIKS4Z"
      },
      "execution_count": null,
      "outputs": []
    }
  ]
}