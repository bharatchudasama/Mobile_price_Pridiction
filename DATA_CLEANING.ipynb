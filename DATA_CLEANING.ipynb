{
  "nbformat": 4,
  "nbformat_minor": 0,
  "metadata": {
    "colab": {
      "provenance": [],
      "authorship_tag": "ABX9TyNLrNmUz/q/C9tryLLAi3GZ",
      "include_colab_link": true
    },
    "kernelspec": {
      "name": "python3",
      "display_name": "Python 3"
    },
    "language_info": {
      "name": "python"
    }
  },
  "cells": [
    {
      "cell_type": "markdown",
      "metadata": {
        "id": "view-in-github",
        "colab_type": "text"
      },
      "source": [
        "<a href=\"https://colab.research.google.com/github/bharatchudasama/Mobile_price_Pridiction/blob/main/DATA_CLEANING.ipynb\" target=\"_parent\"><img src=\"https://colab.research.google.com/assets/colab-badge.svg\" alt=\"Open In Colab\"/></a>"
      ]
    },
    {
      "cell_type": "markdown",
      "source": [
        "# IMPORT DATA SET AND LIBRARY"
      ],
      "metadata": {
        "id": "r4VIYiipgCVd"
      }
    },
    {
      "cell_type": "code",
      "source": [
        "import pandas as pd\n",
        "import numpy as np\n",
        "from sklearn.compose import ColumnTransformer\n",
        "from sklearn.preprocessing import OneHotEncoder , LabelEncoder as le\n",
        "from sklearn.model_selection import train_test_split"
      ],
      "metadata": {
        "id": "DpLtlLoggfUN"
      },
      "execution_count": 29,
      "outputs": []
    },
    {
      "cell_type": "code",
      "execution_count": 3,
      "metadata": {
        "id": "4vMoUuPFG0sB"
      },
      "outputs": [],
      "source": [
        "\n",
        "# Load the dataset\n",
        "file_path = '/content/Mobile-Phones.csv'  # Replace with your actual file path\n",
        "mobile_phones_df = pd.read_csv(file_path)\n",
        "df =mobile_phones_df"
      ]
    },
    {
      "cell_type": "markdown",
      "source": [
        "# DATA PREPROCESSING"
      ],
      "metadata": {
        "id": "aGeNGehmf67E"
      }
    },
    {
      "cell_type": "code",
      "source": [
        "# Display the first few rows to verify the data\n",
        "print(\"First few rows of the dataset:\")\n",
        "print(df.head())"
      ],
      "metadata": {
        "id": "ZxZM4N76dRs1",
        "outputId": "4c5a804e-2eaa-4ebe-e6fc-5e78f63f63e1",
        "colab": {
          "base_uri": "https://localhost:8080/"
        }
      },
      "execution_count": 4,
      "outputs": [
        {
          "output_type": "stream",
          "name": "stdout",
          "text": [
            "First few rows of the dataset:\n",
            "     brand                 model sd_card                    main_camera  \\\n",
            "0  Samsung            Galaxy S10     yes       3 Cameras: 12, 12, 16 MP   \n",
            "1  Samsung  Galaxy Note 20 Ultra     yes      3 Cameras: 108, 12, 12 MP   \n",
            "2  Samsung         Galaxy A54 5G     yes        3 Cameras: 50, 12, 5 MP   \n",
            "3    Tecno          Camon 20 Pro      no            2 Cameras: 64, 2 MP   \n",
            "4  Samsung      Galaxy S22 Ultra      no  4 Cameras: 108, 10, 10, 12 MP   \n",
            "\n",
            "    resolution       display sim_card       os   color         region  \\\n",
            "0  1440 x 3040        AMOLED   Single  Android   White  Greater Accra   \n",
            "1  1440 x 3088        AMOLED     Dual  Android  Bronze  Greater Accra   \n",
            "2  1080 x 2340  Super AMOLED     Dual  Android   Black  Greater Accra   \n",
            "3  1080 x 2400        AMOLED     Dual  Android   Black  Greater Accra   \n",
            "4  1400 x 3088        AMOLED     Dual  Android   Black  Greater Accra   \n",
            "\n",
            "             location  screen_size(inch)  battery(mAh)  storage(GB)  ram(GB)  \\\n",
            "0              Circle               6.10        3400.0        128.0      8.0   \n",
            "1              Circle               6.90        4500.0        128.0     12.0   \n",
            "2  Accra Metropolitan               6.40        5000.0        256.0      8.0   \n",
            "3  Accra Metropolitan               6.67        5000.0        256.0      8.0   \n",
            "4  Accra Metropolitan               6.80        5000.0        512.0     12.0   \n",
            "\n",
            "   selfie_camera(MP)  price(¢)  \n",
            "0               10.0    2450.0  \n",
            "1               10.0    5000.0  \n",
            "2               32.0    3000.0  \n",
            "3               32.0    1900.0  \n",
            "4               40.0    5750.0  \n"
          ]
        }
      ]
    },
    {
      "cell_type": "code",
      "source": [
        "# Step 1: Handle missing values by checking the number of missing values per column\n",
        "missing_values = df.isnull().sum()\n",
        "missing_values"
      ],
      "metadata": {
        "id": "23PSLDKkcIPb",
        "outputId": "763a98b3-a13e-4156-e7ca-926f78d8fbac",
        "colab": {
          "base_uri": "https://localhost:8080/",
          "height": 617
        }
      },
      "execution_count": 5,
      "outputs": [
        {
          "output_type": "execute_result",
          "data": {
            "text/plain": [
              "brand                  0\n",
              "model                  0\n",
              "sd_card                0\n",
              "main_camera          235\n",
              "resolution           536\n",
              "display              566\n",
              "sim_card             790\n",
              "os                   219\n",
              "color                  0\n",
              "region                 0\n",
              "location               0\n",
              "screen_size(inch)    127\n",
              "battery(mAh)         170\n",
              "storage(GB)            3\n",
              "ram(GB)              788\n",
              "selfie_camera(MP)    307\n",
              "price(¢)               0\n",
              "dtype: int64"
            ],
            "text/html": [
              "<div>\n",
              "<style scoped>\n",
              "    .dataframe tbody tr th:only-of-type {\n",
              "        vertical-align: middle;\n",
              "    }\n",
              "\n",
              "    .dataframe tbody tr th {\n",
              "        vertical-align: top;\n",
              "    }\n",
              "\n",
              "    .dataframe thead th {\n",
              "        text-align: right;\n",
              "    }\n",
              "</style>\n",
              "<table border=\"1\" class=\"dataframe\">\n",
              "  <thead>\n",
              "    <tr style=\"text-align: right;\">\n",
              "      <th></th>\n",
              "      <th>0</th>\n",
              "    </tr>\n",
              "  </thead>\n",
              "  <tbody>\n",
              "    <tr>\n",
              "      <th>brand</th>\n",
              "      <td>0</td>\n",
              "    </tr>\n",
              "    <tr>\n",
              "      <th>model</th>\n",
              "      <td>0</td>\n",
              "    </tr>\n",
              "    <tr>\n",
              "      <th>sd_card</th>\n",
              "      <td>0</td>\n",
              "    </tr>\n",
              "    <tr>\n",
              "      <th>main_camera</th>\n",
              "      <td>235</td>\n",
              "    </tr>\n",
              "    <tr>\n",
              "      <th>resolution</th>\n",
              "      <td>536</td>\n",
              "    </tr>\n",
              "    <tr>\n",
              "      <th>display</th>\n",
              "      <td>566</td>\n",
              "    </tr>\n",
              "    <tr>\n",
              "      <th>sim_card</th>\n",
              "      <td>790</td>\n",
              "    </tr>\n",
              "    <tr>\n",
              "      <th>os</th>\n",
              "      <td>219</td>\n",
              "    </tr>\n",
              "    <tr>\n",
              "      <th>color</th>\n",
              "      <td>0</td>\n",
              "    </tr>\n",
              "    <tr>\n",
              "      <th>region</th>\n",
              "      <td>0</td>\n",
              "    </tr>\n",
              "    <tr>\n",
              "      <th>location</th>\n",
              "      <td>0</td>\n",
              "    </tr>\n",
              "    <tr>\n",
              "      <th>screen_size(inch)</th>\n",
              "      <td>127</td>\n",
              "    </tr>\n",
              "    <tr>\n",
              "      <th>battery(mAh)</th>\n",
              "      <td>170</td>\n",
              "    </tr>\n",
              "    <tr>\n",
              "      <th>storage(GB)</th>\n",
              "      <td>3</td>\n",
              "    </tr>\n",
              "    <tr>\n",
              "      <th>ram(GB)</th>\n",
              "      <td>788</td>\n",
              "    </tr>\n",
              "    <tr>\n",
              "      <th>selfie_camera(MP)</th>\n",
              "      <td>307</td>\n",
              "    </tr>\n",
              "    <tr>\n",
              "      <th>price(¢)</th>\n",
              "      <td>0</td>\n",
              "    </tr>\n",
              "  </tbody>\n",
              "</table>\n",
              "</div><br><label><b>dtype:</b> int64</label>"
            ]
          },
          "metadata": {},
          "execution_count": 5
        }
      ]
    },
    {
      "cell_type": "code",
      "source": [
        "# 1. Drop rows where both 'main_camera' and 'resolution' are NULL\n",
        "df.dropna(subset=['main_camera', 'resolution','display','storage(GB)'], inplace =True)\n",
        "# 2. Fill NULL values in 'sim_card' with \"single\"\n",
        "df['sim_card'].fillna('Single', inplace=True)\n",
        "# 3. Fill NULL values in 'os' based on 'Brand'\n",
        "df['os'] = df.apply(lambda x: 'iOS' if x['brand'] == 'Apple' else 'Android' if pd.isnull(x['os']) else x['os'], axis=1)\n",
        "# 4. Fill missing values in 'ram', 'battery', and 'selfie_camera' with their respective column means\n",
        "df['ram(GB)'].fillna(df['ram(GB)'].mean(), inplace=True)\n",
        "df['battery(mAh)'].fillna(df['battery(mAh)'].mean(), inplace=True)\n",
        "df['selfie_camera(MP)'].fillna(df['selfie_camera(MP)'].mean(), inplace=True)\n",
        "df['screen_size(inch)'].fillna(df['screen_size(inch)'].mean(), inplace=True)\n",
        "missing_values = df.isnull().sum()\n",
        "missing_values"
      ],
      "metadata": {
        "id": "cJ0OImOoNmqr",
        "outputId": "48d29893-fc9c-4407-9c4a-e7d54e161d32",
        "colab": {
          "base_uri": "https://localhost:8080/",
          "height": 1000
        }
      },
      "execution_count": 6,
      "outputs": [
        {
          "output_type": "stream",
          "name": "stderr",
          "text": [
            "<ipython-input-6-ebc49360fcd1>:4: FutureWarning: A value is trying to be set on a copy of a DataFrame or Series through chained assignment using an inplace method.\n",
            "The behavior will change in pandas 3.0. This inplace method will never work because the intermediate object on which we are setting values always behaves as a copy.\n",
            "\n",
            "For example, when doing 'df[col].method(value, inplace=True)', try using 'df.method({col: value}, inplace=True)' or df[col] = df[col].method(value) instead, to perform the operation inplace on the original object.\n",
            "\n",
            "\n",
            "  df['sim_card'].fillna('Single', inplace=True)\n",
            "<ipython-input-6-ebc49360fcd1>:8: FutureWarning: A value is trying to be set on a copy of a DataFrame or Series through chained assignment using an inplace method.\n",
            "The behavior will change in pandas 3.0. This inplace method will never work because the intermediate object on which we are setting values always behaves as a copy.\n",
            "\n",
            "For example, when doing 'df[col].method(value, inplace=True)', try using 'df.method({col: value}, inplace=True)' or df[col] = df[col].method(value) instead, to perform the operation inplace on the original object.\n",
            "\n",
            "\n",
            "  df['ram(GB)'].fillna(df['ram(GB)'].mean(), inplace=True)\n",
            "<ipython-input-6-ebc49360fcd1>:9: FutureWarning: A value is trying to be set on a copy of a DataFrame or Series through chained assignment using an inplace method.\n",
            "The behavior will change in pandas 3.0. This inplace method will never work because the intermediate object on which we are setting values always behaves as a copy.\n",
            "\n",
            "For example, when doing 'df[col].method(value, inplace=True)', try using 'df.method({col: value}, inplace=True)' or df[col] = df[col].method(value) instead, to perform the operation inplace on the original object.\n",
            "\n",
            "\n",
            "  df['battery(mAh)'].fillna(df['battery(mAh)'].mean(), inplace=True)\n",
            "<ipython-input-6-ebc49360fcd1>:10: FutureWarning: A value is trying to be set on a copy of a DataFrame or Series through chained assignment using an inplace method.\n",
            "The behavior will change in pandas 3.0. This inplace method will never work because the intermediate object on which we are setting values always behaves as a copy.\n",
            "\n",
            "For example, when doing 'df[col].method(value, inplace=True)', try using 'df.method({col: value}, inplace=True)' or df[col] = df[col].method(value) instead, to perform the operation inplace on the original object.\n",
            "\n",
            "\n",
            "  df['selfie_camera(MP)'].fillna(df['selfie_camera(MP)'].mean(), inplace=True)\n",
            "<ipython-input-6-ebc49360fcd1>:11: FutureWarning: A value is trying to be set on a copy of a DataFrame or Series through chained assignment using an inplace method.\n",
            "The behavior will change in pandas 3.0. This inplace method will never work because the intermediate object on which we are setting values always behaves as a copy.\n",
            "\n",
            "For example, when doing 'df[col].method(value, inplace=True)', try using 'df.method({col: value}, inplace=True)' or df[col] = df[col].method(value) instead, to perform the operation inplace on the original object.\n",
            "\n",
            "\n",
            "  df['screen_size(inch)'].fillna(df['screen_size(inch)'].mean(), inplace=True)\n"
          ]
        },
        {
          "output_type": "execute_result",
          "data": {
            "text/plain": [
              "brand                0\n",
              "model                0\n",
              "sd_card              0\n",
              "main_camera          0\n",
              "resolution           0\n",
              "display              0\n",
              "sim_card             0\n",
              "os                   0\n",
              "color                0\n",
              "region               0\n",
              "location             0\n",
              "screen_size(inch)    0\n",
              "battery(mAh)         0\n",
              "storage(GB)          0\n",
              "ram(GB)              0\n",
              "selfie_camera(MP)    0\n",
              "price(¢)             0\n",
              "dtype: int64"
            ],
            "text/html": [
              "<div>\n",
              "<style scoped>\n",
              "    .dataframe tbody tr th:only-of-type {\n",
              "        vertical-align: middle;\n",
              "    }\n",
              "\n",
              "    .dataframe tbody tr th {\n",
              "        vertical-align: top;\n",
              "    }\n",
              "\n",
              "    .dataframe thead th {\n",
              "        text-align: right;\n",
              "    }\n",
              "</style>\n",
              "<table border=\"1\" class=\"dataframe\">\n",
              "  <thead>\n",
              "    <tr style=\"text-align: right;\">\n",
              "      <th></th>\n",
              "      <th>0</th>\n",
              "    </tr>\n",
              "  </thead>\n",
              "  <tbody>\n",
              "    <tr>\n",
              "      <th>brand</th>\n",
              "      <td>0</td>\n",
              "    </tr>\n",
              "    <tr>\n",
              "      <th>model</th>\n",
              "      <td>0</td>\n",
              "    </tr>\n",
              "    <tr>\n",
              "      <th>sd_card</th>\n",
              "      <td>0</td>\n",
              "    </tr>\n",
              "    <tr>\n",
              "      <th>main_camera</th>\n",
              "      <td>0</td>\n",
              "    </tr>\n",
              "    <tr>\n",
              "      <th>resolution</th>\n",
              "      <td>0</td>\n",
              "    </tr>\n",
              "    <tr>\n",
              "      <th>display</th>\n",
              "      <td>0</td>\n",
              "    </tr>\n",
              "    <tr>\n",
              "      <th>sim_card</th>\n",
              "      <td>0</td>\n",
              "    </tr>\n",
              "    <tr>\n",
              "      <th>os</th>\n",
              "      <td>0</td>\n",
              "    </tr>\n",
              "    <tr>\n",
              "      <th>color</th>\n",
              "      <td>0</td>\n",
              "    </tr>\n",
              "    <tr>\n",
              "      <th>region</th>\n",
              "      <td>0</td>\n",
              "    </tr>\n",
              "    <tr>\n",
              "      <th>location</th>\n",
              "      <td>0</td>\n",
              "    </tr>\n",
              "    <tr>\n",
              "      <th>screen_size(inch)</th>\n",
              "      <td>0</td>\n",
              "    </tr>\n",
              "    <tr>\n",
              "      <th>battery(mAh)</th>\n",
              "      <td>0</td>\n",
              "    </tr>\n",
              "    <tr>\n",
              "      <th>storage(GB)</th>\n",
              "      <td>0</td>\n",
              "    </tr>\n",
              "    <tr>\n",
              "      <th>ram(GB)</th>\n",
              "      <td>0</td>\n",
              "    </tr>\n",
              "    <tr>\n",
              "      <th>selfie_camera(MP)</th>\n",
              "      <td>0</td>\n",
              "    </tr>\n",
              "    <tr>\n",
              "      <th>price(¢)</th>\n",
              "      <td>0</td>\n",
              "    </tr>\n",
              "  </tbody>\n",
              "</table>\n",
              "</div><br><label><b>dtype:</b> int64</label>"
            ]
          },
          "metadata": {},
          "execution_count": 6
        }
      ]
    },
    {
      "cell_type": "code",
      "source": [
        "# droping location and region as it is of no use\n",
        "df.drop(['region', 'location'], axis=1, inplace=True)\n"
      ],
      "metadata": {
        "id": "y2qDVmOthkTc"
      },
      "execution_count": 7,
      "outputs": []
    },
    {
      "cell_type": "markdown",
      "source": [
        "# Spliting into X and y"
      ],
      "metadata": {
        "id": "5G0lvZZ_VcBU"
      }
    },
    {
      "cell_type": "code",
      "source": [
        "X = df.iloc[:,:-1].values\n",
        "y = df.iloc[:,-1].values\n"
      ],
      "metadata": {
        "id": "HhCtaXXfVPc5"
      },
      "execution_count": 8,
      "outputs": []
    },
    {
      "cell_type": "markdown",
      "source": [
        "# Enoding Categoriacl Data"
      ],
      "metadata": {
        "id": "550RPa1agT17"
      }
    },
    {
      "cell_type": "markdown",
      "source": [
        "# Encoding Independent Variables"
      ],
      "metadata": {
        "id": "TZWWiJc3gYq1"
      }
    },
    {
      "cell_type": "code",
      "source": [
        "ct = ColumnTransformer(\n",
        "    transformers=[\n",
        "        ('encoder', OneHotEncoder(), [0, 1, 2, 3, 4, 5, 6, 7, 8])  # Apply OneHotEncoder to specified columns\n",
        "    ],\n",
        "    remainder='passthrough'  # Keep the remaining columns (numerical) as they are\n",
        ")"
      ],
      "metadata": {
        "id": "kqBvGRv2gXno"
      },
      "execution_count": 41,
      "outputs": []
    },
    {
      "cell_type": "code",
      "source": [
        "X_transformed = ct.fit_transform(X)"
      ],
      "metadata": {
        "id": "wooBHUucWPJw"
      },
      "execution_count": 42,
      "outputs": []
    },
    {
      "cell_type": "markdown",
      "source": [
        "# Spliting into X_train, X_test , Y_train,y_test"
      ],
      "metadata": {
        "id": "meU9PhRZYI8w"
      }
    },
    {
      "cell_type": "code",
      "source": [
        "# Convert to dense array if it's a sparse matrix\n",
        "X_transformed_dense = X_transformed.toarray() if hasattr(X_transformed, \"toarray\") else X_transformed\n",
        "\n",
        "# Splitting the data\n",
        "X_train, X_test, y_train, y_test = train_test_split(X_transformed_dense, y, test_size=0.2, random_state=1)\n",
        "\n",
        "# Display shapes of the split datasets\n",
        "print(X_train.shape, X_test.shape, y_train.shape, y_test.shape)\n"
      ],
      "metadata": {
        "id": "YDKqYc9LWXxw",
        "outputId": "cff53ef9-9449-438e-f94e-e354f6343ac5",
        "colab": {
          "base_uri": "https://localhost:8080/"
        }
      },
      "execution_count": 43,
      "outputs": [
        {
          "output_type": "stream",
          "name": "stdout",
          "text": [
            "(2343, 593) (586, 593) (2343,) (586,)\n"
          ]
        }
      ]
    },
    {
      "cell_type": "code",
      "source": [],
      "metadata": {
        "id": "nSdh9DguYBi7"
      },
      "execution_count": null,
      "outputs": []
    }
  ]
}